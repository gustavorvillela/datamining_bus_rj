{
 "cells": [
  {
   "cell_type": "markdown",
   "id": "24844d24",
   "metadata": {},
   "source": [
    "# Trabalho 3 de Mineração de Dados"
   ]
  },
  {
   "cell_type": "code",
   "execution_count": null,
   "id": "3bab2dc6",
   "metadata": {},
   "outputs": [],
   "source": [
    "import numpy as np\n",
    "import matplotlib.pyplot as plt\n"
   ]
  },
  {
   "cell_type": "markdown",
   "id": "84413783",
   "metadata": {},
   "source": [
    "# Importação de pacotes e bibliotecas"
   ]
  },
  {
   "cell_type": "code",
   "execution_count": null,
   "id": "a71927e7",
   "metadata": {},
   "outputs": [],
   "source": []
  },
  {
   "cell_type": "markdown",
   "id": "823ccb34",
   "metadata": {},
   "source": [
    "# Carregamento de arquivos"
   ]
  },
  {
   "cell_type": "markdown",
   "id": "be1ceae5",
   "metadata": {},
   "source": [
    "# Análise Exploratória"
   ]
  },
  {
   "cell_type": "markdown",
   "id": "799f0409",
   "metadata": {},
   "source": [
    "# Feature Engineering"
   ]
  },
  {
   "cell_type": "markdown",
   "id": "fecd82e3",
   "metadata": {},
   "source": [
    "# Treinamento"
   ]
  },
  {
   "cell_type": "markdown",
   "id": "47b0ae64",
   "metadata": {},
   "source": [
    "# Teste"
   ]
  },
  {
   "cell_type": "markdown",
   "id": "e8f19a4a",
   "metadata": {},
   "source": [
    "# Submição"
   ]
  },
  {
   "cell_type": "markdown",
   "id": "4d79aced",
   "metadata": {},
   "source": []
  }
 ],
 "metadata": {
  "kernelspec": {
   "display_name": "Python 3",
   "language": "python",
   "name": "python3"
  },
  "language_info": {
   "codemirror_mode": {
    "name": "ipython",
    "version": 3
   },
   "file_extension": ".py",
   "mimetype": "text/x-python",
   "name": "python",
   "nbconvert_exporter": "python",
   "pygments_lexer": "ipython3",
   "version": "3.8.10"
  }
 },
 "nbformat": 4,
 "nbformat_minor": 5
}
